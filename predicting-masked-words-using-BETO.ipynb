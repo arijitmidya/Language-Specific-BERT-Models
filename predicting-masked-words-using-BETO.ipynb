{
 "cells": [
  {
   "cell_type": "code",
   "execution_count": 1,
   "metadata": {},
   "outputs": [],
   "source": [
    "# Suppressing \"INFO\" and \"WARNING\" messages by setting the verbosity of both the Transformers and TensorFlow libraries.\n",
    "from transformers import logging\n",
    "logging.set_verbosity_error()\n",
    "import os\n",
    "os.environ['TF_CPP_MIN_LOG_LEVEL'] = '2'"
   ]
  },
  {
   "cell_type": "code",
   "execution_count": 2,
   "metadata": {},
   "outputs": [],
   "source": [
    "from transformers import pipeline"
   ]
  },
  {
   "cell_type": "code",
   "execution_count": 3,
   "metadata": {},
   "outputs": [
    {
     "data": {
      "application/vnd.jupyter.widget-view+json": {
       "model_id": "cca9c02c0c3b480aba072939da8e7b7d",
       "version_major": 2,
       "version_minor": 0
      },
      "text/plain": [
       "Downloading config.json:   0%|          | 0.00/650 [00:00<?, ?B/s]"
      ]
     },
     "metadata": {},
     "output_type": "display_data"
    },
    {
     "data": {
      "application/vnd.jupyter.widget-view+json": {
       "model_id": "4226724b29d040ac8e62cf89221d9b9a",
       "version_major": 2,
       "version_minor": 0
      },
      "text/plain": [
       "Downloading pytorch_model.bin:   0%|          | 0.00/440M [00:00<?, ?B/s]"
      ]
     },
     "metadata": {},
     "output_type": "display_data"
    },
    {
     "data": {
      "application/vnd.jupyter.widget-view+json": {
       "model_id": "ccfff97990444f93a2aff3fca5c128a7",
       "version_major": 2,
       "version_minor": 0
      },
      "text/plain": [
       "Downloading tokenizer_config.json:   0%|          | 0.00/310 [00:00<?, ?B/s]"
      ]
     },
     "metadata": {},
     "output_type": "display_data"
    },
    {
     "data": {
      "application/vnd.jupyter.widget-view+json": {
       "model_id": "e8bcbdca190743918f09a6227d96502f",
       "version_major": 2,
       "version_minor": 0
      },
      "text/plain": [
       "Downloading vocab.txt:   0%|          | 0.00/248k [00:00<?, ?B/s]"
      ]
     },
     "metadata": {},
     "output_type": "display_data"
    },
    {
     "data": {
      "application/vnd.jupyter.widget-view+json": {
       "model_id": "51f6583fc4cb44449c79ad927e3ba023",
       "version_major": 2,
       "version_minor": 0
      },
      "text/plain": [
       "Downloading tokenizer.json:   0%|          | 0.00/486k [00:00<?, ?B/s]"
      ]
     },
     "metadata": {},
     "output_type": "display_data"
    },
    {
     "data": {
      "application/vnd.jupyter.widget-view+json": {
       "model_id": "2083edda6bde4701b094a95404d1d266",
       "version_major": 2,
       "version_minor": 0
      },
      "text/plain": [
       "Downloading (…)cial_tokens_map.json:   0%|          | 0.00/134 [00:00<?, ?B/s]"
      ]
     },
     "metadata": {},
     "output_type": "display_data"
    }
   ],
   "source": [
    "predict_mask = pipeline(\n",
    "   \"fill-mask\",\n",
    "   model= \"dccuchile/bert-base-spanish-wwm-uncased\",\n",
    "   tokenizer=\"dccuchile/bert-base-spanish-wwm-uncased\"\n",
    ")"
   ]
  },
  {
   "cell_type": "code",
   "execution_count": 4,
   "metadata": {},
   "outputs": [],
   "source": [
    "result = predict_mask('[MASK] los caminos llevan a Roma') "
   ]
  },
  {
   "cell_type": "code",
   "execution_count": 5,
   "metadata": {},
   "outputs": [
    {
     "name": "stdout",
     "output_type": "stream",
     "text": [
      "[{'score': 0.9719983339309692, 'token': 1399, 'token_str': 'todos', 'sequence': 'todos los caminos llevan a roma'}, {'score': 0.007171045057475567, 'token': 1825, 'token_str': 'todas', 'sequence': 'todas los caminos llevan a roma'}, {'score': 0.005352032836526632, 'token': 1139, 'token_str': '-', 'sequence': '- los caminos llevan a roma'}, {'score': 0.004154071677476168, 'token': 1300, 'token_str': 'todo', 'sequence': 'todo los caminos llevan a roma'}, {'score': 0.003964337985962629, 'token': 1040, 'token_str': 'y', 'sequence': 'y los caminos llevan a roma'}]\n"
     ]
    }
   ],
   "source": [
    "print(result)"
   ]
  },
  {
   "cell_type": "code",
   "execution_count": 6,
   "metadata": {},
   "outputs": [
    {
     "data": {
      "text/plain": [
       "[{'score': 0.9719983339309692,\n",
       "  'token': 1399,\n",
       "  'token_str': 'todos',\n",
       "  'sequence': 'todos los caminos llevan a roma'},\n",
       " {'score': 0.007171045057475567,\n",
       "  'token': 1825,\n",
       "  'token_str': 'todas',\n",
       "  'sequence': 'todas los caminos llevan a roma'},\n",
       " {'score': 0.005352032836526632,\n",
       "  'token': 1139,\n",
       "  'token_str': '-',\n",
       "  'sequence': '- los caminos llevan a roma'},\n",
       " {'score': 0.004154071677476168,\n",
       "  'token': 1300,\n",
       "  'token_str': 'todo',\n",
       "  'sequence': 'todo los caminos llevan a roma'},\n",
       " {'score': 0.003964337985962629,\n",
       "  'token': 1040,\n",
       "  'token_str': 'y',\n",
       "  'sequence': 'y los caminos llevan a roma'}]"
      ]
     },
     "execution_count": 6,
     "metadata": {},
     "output_type": "execute_result"
    }
   ],
   "source": [
    "result"
   ]
  },
  {
   "cell_type": "code",
   "execution_count": null,
   "metadata": {},
   "outputs": [],
   "source": []
  }
 ],
 "metadata": {
  "kernelspec": {
   "display_name": "Python 3 (ipykernel)",
   "language": "python",
   "name": "python3"
  },
  "language_info": {
   "codemirror_mode": {
    "name": "ipython",
    "version": 3
   },
   "file_extension": ".py",
   "mimetype": "text/x-python",
   "name": "python",
   "nbconvert_exporter": "python",
   "pygments_lexer": "ipython3",
   "version": "3.8.10"
  }
 },
 "nbformat": 4,
 "nbformat_minor": 4
}
